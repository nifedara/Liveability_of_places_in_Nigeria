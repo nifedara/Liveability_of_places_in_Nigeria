{
  "nbformat": 4,
  "nbformat_minor": 0,
  "metadata": {
    "colab": {
      "name": "Investigating Liveability of places in Nigeria",
      "provenance": [],
      "collapsed_sections": [],
      "mount_file_id": "1oOF67DtvvnO1EjF4UOEwseWe1HQPll8h",
      "authorship_tag": "ABX9TyPOP8oWXmNbZql0joa8ZLZL",
      "include_colab_link": true
    },
    "kernelspec": {
      "name": "python3",
      "display_name": "Python 3"
    },
    "language_info": {
      "name": "python"
    }
  },
  "cells": [
    {
      "cell_type": "markdown",
      "metadata": {
        "id": "view-in-github",
        "colab_type": "text"
      },
      "source": [
        "<a href=\"https://colab.research.google.com/github/nifedara/Liveability_of_places_in_Nigeria/blob/main/Investigating_Liveability_of_places_in_Nigeria.ipynb\" target=\"_parent\"><img src=\"https://colab.research.google.com/assets/colab-badge.svg\" alt=\"Open In Colab\"/></a>"
      ]
    },
    {
      "cell_type": "code",
      "execution_count": 2,
      "metadata": {
        "id": "8LNXf0yYQLPr",
        "colab": {
          "base_uri": "https://localhost:8080/"
        },
        "outputId": "4a8b48be-e2e5-498b-90f3-3a7e15e62051"
      },
      "outputs": [
        {
          "output_type": "stream",
          "name": "stdout",
          "text": [
            "                                                      text  \\\n",
            "id                                                           \n",
            "7751000  M-137 was a state trunkline highway in the US ...   \n",
            "7751001  In sociology, dynamic density refers to the co...   \n",
            "7751042  Bert Robert Shepard (June 20, 1920 – June 16, ...   \n",
            "7751048  Marc Fein (born Marc Alan Fein October 21, 196...   \n",
            "7751062  Ghelamco Arena panorama indoor. The Ghelamco A...   \n",
            "\n",
            "                            title  \n",
            "id                                 \n",
            "7751000  M-137 (Michigan highway)  \n",
            "7751001           Dynamic density  \n",
            "7751042              Bert Shepard  \n",
            "7751048                 Marc Fein  \n",
            "7751062            Ghelamco Arena  \n"
          ]
        }
      ],
      "source": [
        "#Question: Where are the worst and most liveable places in Nigeria?\n",
        "\n",
        "#to answer this, I will:\n",
        "#analyse a rich data about Nigeria\n",
        "#and highlight places of interest in Nigeria that are contained in the data \n",
        "#analyse what was said about those places\n",
        "\n",
        "#the data to be analyzed is wikipedia dump.\n",
        "#Because it contains a lot of information about different places \n",
        "#It is in json format. so first, step is to convert it to csv.\n",
        "#what is now loaded here is the coverted file. Now in csv format, ready to be loaded into pandas dataframe\n",
        "\n",
        "import pandas as pd\n",
        "\n",
        "#reading it with pandas read_csv\n",
        "wikidata_csv = pd.read_csv('/content/wikidata.csv', index_col = 0)\n",
        "\n",
        "#converts it to a pandas dataframe\n",
        "wikidata = pd.DataFrame(wikidata_csv)\n",
        "\n",
        "print(wikidata_csv.head())"
      ]
    },
    {
      "cell_type": "code",
      "source": [
        "#next step is to remove irrelevant rows(articles)\n",
        "#any row that doesn't mention an entity of type location will be removed"
      ],
      "metadata": {
        "id": "h-ULJiQa5X8V"
      },
      "execution_count": 3,
      "outputs": []
    },
    {
      "cell_type": "code",
      "source": [
        ""
      ],
      "metadata": {
        "id": "iQ6KWtIM1yRA"
      },
      "execution_count": null,
      "outputs": []
    },
    {
      "cell_type": "code",
      "source": [
        ""
      ],
      "metadata": {
        "id": "eXBGYWhn5Yig"
      },
      "execution_count": null,
      "outputs": []
    }
  ]
}